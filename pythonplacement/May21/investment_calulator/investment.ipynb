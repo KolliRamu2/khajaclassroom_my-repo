{
 "metadata": {
  "language_info": {
   "codemirror_mode": {
    "name": "ipython",
    "version": 3
   },
   "file_extension": ".py",
   "mimetype": "text/x-python",
   "name": "python",
   "nbconvert_exporter": "python",
   "pygments_lexer": "ipython3",
   "version": 3
  },
  "orig_nbformat": 2
 },
 "nbformat": 4,
 "nbformat_minor": 2,
 "cells": [
  {
   "cell_type": "code",
   "execution_count": null,
   "metadata": {},
   "outputs": [],
   "source": [
    "principal = 500000\n",
    "fd_rate_of_intrest = 5.5\n",
    "mf_rate_of_intrest = 7.5\n",
    "period_in_years = 2\n",
    "fd_after_period = principal * (1+ fd_rate_of_intrest/100)** period_in_years\n",
    "mf_after_period = principal * (1+ mf_rate_of_intrest/100)** period_in_years\n",
    "\n",
    "print(f\"FD after {period_in_years} years is {fd_after_period}\")\n",
    "print(f\"MF after {period_in_years} years is {mf_after_period}\")"
   ]
  }
 ]
}